{
 "cells": [
  {
   "cell_type": "code",
   "execution_count": null,
   "metadata": {},
   "outputs": [
    {
     "ename": "",
     "evalue": "",
     "output_type": "error",
     "traceback": [
      "\u001b[1;31mRunning cells with 'Python 3.12.4' requires the ipykernel package.\n",
      "\u001b[1;31mRun the following command to install 'ipykernel' into the Python environment. \n",
      "\u001b[1;31mCommand: 'c:/Users/LENOVO/AppData/Local/Programs/Python/Python312/python.exe -m pip install ipykernel -U --user --force-reinstall'"
     ]
    }
   ],
   "source": [
    "import matplotlib.pyplot as plt\n",
    "import pandas as pd\n",
    "import seaborn as sea\n",
    "\n",
    "it=pd.read_csv('heart.csv')\n",
    "print(it)\n",
    "sea.scatterplot(x='age',y='cholestrol',data=it,hue='target')\n",
    "plt.title('HEART ATTACK')\n",
    "plt.xlabel('age')\n",
    "plt.ylabel('cholestrol')\n",
    "plt.show()\n",
    "\n",
    "#boxplot gender bp\n",
    "color=['red','pink']\n",
    "sea.boxplot(x='gender',y='bp',data=it,palette=color)\n",
    "plt.show()\n",
    "\n",
    "#barchart\n",
    "color=['orange','red']\n",
    "sea.countplot(x='target',data=it,palette=color)\n",
    "plt.show()\n",
    "\n",
    "#FACETGRID\n",
    "imran=sea.FacetGrid(data=it,col='sugar')\n",
    "imran.map(sea.scatterplot,'age','bp')\n",
    "plt.show()\n",
    "\n",
    "sea.pairplot(data=it)\n",
    "plt.show()"
   ]
  }
 ],
 "metadata": {
  "kernelspec": {
   "display_name": "Python 3",
   "language": "python",
   "name": "python3"
  },
  "language_info": {
   "name": "python",
   "version": "3.12.4"
  }
 },
 "nbformat": 4,
 "nbformat_minor": 2
}
